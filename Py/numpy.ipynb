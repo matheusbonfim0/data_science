{
 "cells": [
  {
   "cell_type": "code",
   "execution_count": null,
   "metadata": {},
   "outputs": [],
   "source": [
    "#Numpy\n",
    "import numpy as np"
   ]
  },
  {
   "cell_type": "code",
   "execution_count": null,
   "metadata": {},
   "outputs": [],
   "source": [
    "#Cria uma matriz unidimensional\n",
    "mt = np.array([12, 34, 26, 18, 10])\n",
    "print(mt)\n",
    "print(type(mt))"
   ]
  },
  {
   "cell_type": "code",
   "execution_count": null,
   "metadata": {},
   "outputs": [],
   "source": [
    "#Cria um array com um tipo específico\n",
    "\n",
    "mtfloat = np.array([1, 2, 3], dtype= np.float64)\n",
    "print(mtfloat)\n",
    "print(type(mtfloat))\n",
    "mtint = np.array([1, 2, 3], dtype= np.int32)\n",
    "print(mtint)\n",
    "print(type(mtint))"
   ]
  },
  {
   "cell_type": "code",
   "execution_count": null,
   "metadata": {},
   "outputs": [],
   "source": [
    "#Mudar o tipo do array\n",
    "mtnew = np.array([1.4, 3.6, -5.1, 9.42, 4.999999])\n",
    "print(mtnew)\n",
    "mtnewint = mtnew.astype(np.int32)\n",
    "print(mtnewint)"
   ]
  },
  {
   "cell_type": "code",
   "execution_count": null,
   "metadata": {},
   "outputs": [],
   "source": [
    "mt5 = np.array([1, 2, 3, 4])\n",
    "print(mt5)\n",
    "mt6 = mt5.astype(float)\n",
    "print(mt6)"
   ]
  },
  {
   "cell_type": "code",
   "execution_count": null,
   "metadata": {},
   "outputs": [],
   "source": [
    "#Mais uma dimensão\n",
    "\n",
    "mt7 = np.array([[7, 2, 23], [12, 27, 4], [5, 34, 23]])\n",
    "print(mt7)"
   ]
  },
  {
   "cell_type": "code",
   "execution_count": null,
   "metadata": {},
   "outputs": [],
   "source": [
    "#Criando arrays vazios tipificados\n",
    "vazio = np.empty([3, 2], dtype = int)\n",
    "print(vazio)\n",
    "print('-------')\n",
    "\n",
    "#Criando uma matriz 4x3 com valores zero\n",
    "zeros = np.zeros([4, 3])\n",
    "print(zeros)\n",
    "print('-------')\n",
    "\n",
    "#Valores iguais a um\n",
    "um = np.ones([5, 7])\n",
    "print(um)\n",
    "print('-------')\n",
    "\n",
    "#Matriz quadrada com diagonal principal com valores 1 e os outros valores zero\n",
    "diagonal = np.eye(5)\n",
    "print(diagonal)"
   ]
  },
  {
   "cell_type": "code",
   "execution_count": null,
   "metadata": {},
   "outputs": [],
   "source": [
    "#Valores aleatórios entre zero e um\n",
    "ale = np.random.random((5))\n",
    "print(ale)\n",
    "print('-------')\n",
    "\n",
    "#Valores aleatórios distr. normal contendo negativos\n",
    "ale2 = np.random.randn((5))\n",
    "print(ale2)\n",
    "print('-------')\n",
    "\n",
    "#Valores alatórios 3 x 4\n",
    "ale3 = (10*np.random.random((3, 4)))\n",
    "print(ale3)"
   ]
  },
  {
   "cell_type": "code",
   "execution_count": null,
   "metadata": {},
   "outputs": [],
   "source": [
    "#Outra forma de gerar aleatórios\n",
    "gnr = np.random.default_rng(1)\n",
    "ale5 = gnr.random(3)\n",
    "print(ale5)\n",
    "\n",
    "#Gerar inteiros\n",
    "ale6 = gnr.integers(10, size=(3, 4))\n",
    "print(ale6)"
   ]
  },
  {
   "cell_type": "code",
   "execution_count": null,
   "metadata": {},
   "outputs": [],
   "source": [
    "#Unique remove repetições\n",
    "j = np.array([11, 12, 13, 14, 15, 16, 17, 12, 13, 11, 18, 19, 20])\n",
    "j = np.unique(j)\n",
    "print(j)"
   ]
  },
  {
   "cell_type": "code",
   "execution_count": null,
   "metadata": {},
   "outputs": [],
   "source": [
    "#Funções específicas\n",
    "#Cria a matriz bidimensional k\n",
    "k = np.array([[17, 22, 43], [27, 25, 14], [15, 24, 32]])\n",
    "print(k)\n",
    "\n",
    "print(k[0][1])\n",
    "#Mostra o tamanho das dimensões da matriz k \n",
    "print(k.shape)\n",
    "\n"
   ]
  },
  {
   "cell_type": "code",
   "execution_count": null,
   "metadata": {},
   "outputs": [],
   "source": [
    "#Funções Matemáticas\n",
    "#Maior valor\n",
    "print(k.max())\n",
    "\n",
    "#Menor valor\n",
    "print(k.min())\n",
    "\n",
    "#Soma dos valores\n",
    "print(k.sum())\n",
    "\n",
    "#Valor médio dos valores\n",
    "print(k.mean())\n",
    "\n",
    "#Desvio padrão\n",
    "print(k.std())\n"
   ]
  },
  {
   "cell_type": "code",
   "execution_count": null,
   "metadata": {},
   "outputs": [],
   "source": [
    "#Funções universais, aplicadas a todos os elementos\n",
    "k1 = np.array([1, 4, 9, 16, 25, 36])\n",
    "print(np.sqrt(k1))\n",
    "\n",
    "print(np.exp(k1))"
   ]
  },
  {
   "cell_type": "code",
   "execution_count": null,
   "metadata": {},
   "outputs": [],
   "source": [
    "#Extração de elementos\n",
    "m = np.array([1, 2, 3, 4, 5, 6])\n",
    "print(m[1])\n",
    "print(\"------------\")\n",
    "\n",
    "print(m[0:2])\n",
    "print(\"------------\")\n",
    "\n",
    "print(m[1:])\n",
    "print(\"------------\")\n",
    "\n",
    "print(m[-3:])"
   ]
  },
  {
   "cell_type": "code",
   "execution_count": null,
   "metadata": {},
   "outputs": [],
   "source": [
    "#Extração de linhas e colunas\n",
    "l = np.array([[4, 5], [6, 1], [7, 4]])\n",
    "print(l)\n",
    "print(\"------------\")\n",
    "\n",
    "l_linha_1 = l[0, :]\n",
    "print(l_linha_1)\n",
    "print(\"------------\")\n",
    "\n",
    "l_linha_2 = l[1, :]\n",
    "print(l_linha_2)\n",
    "print(\"------------\")\n",
    "\n",
    "l_linha_3 = l[2, :]\n",
    "print(l_linha_3)\n",
    "print(\"------------\")\n",
    "\n",
    "l_coluna_1 = l[:, 0]\n",
    "print(l_coluna_1)\n",
    "print(\"------------\")\n",
    "\n",
    "l_coluna_2 = l[:, 1]\n",
    "print(l_coluna_2)\n",
    "print(\"------------\")\n"
   ]
  },
  {
   "cell_type": "code",
   "execution_count": null,
   "metadata": {},
   "outputs": [],
   "source": [
    "#Adição e multiplicação de matrizes\n",
    "n = np.array([[1, 2], [3, 4]])\n",
    "o = np.array([[1, 1], [1, 1]])\n",
    "\n",
    "res1 = n+o\n",
    "print(res1)\n",
    "print(\"------------\")\n",
    "\n",
    "res2 = n*o\n",
    "print(res2)\n",
    "print(\"------------\")\n",
    "\n",
    "p = np.array([[1, 2], [3, 4], [5, 6]])\n",
    "q = np.array([[2, 1]])\n",
    "print(p+q)"
   ]
  },
  {
   "cell_type": "code",
   "execution_count": null,
   "metadata": {},
   "outputs": [],
   "source": [
    "# Tranposição , rearranja um conjunto de 15 elementos de 0 a 14 \n",
    "f = np.arange(15).reshape((3, 5))\n",
    "print(f)\n",
    "print(\"------------\")\n",
    "\n",
    "s = f.T\n",
    "print(s)"
   ]
  },
  {
   "cell_type": "code",
   "execution_count": null,
   "metadata": {},
   "outputs": [],
   "source": [
    "#Outra forma de fazer a transposição\n",
    "r = np.arange(15).reshape((3, 5))\n",
    "print(f)\n",
    "print(\"------------\")\n",
    "\n",
    "s = r.transpose((1, 0))\n",
    "print(s)"
   ]
  },
  {
   "cell_type": "code",
   "execution_count": null,
   "metadata": {},
   "outputs": [],
   "source": [
    "#Expressões lógicas\n",
    "v = np.random.randn(4, 4)\n",
    "print(v)\n",
    "print(\"------------\")\n",
    "\n",
    "x = (v > 0)\n",
    "print(x)\n",
    "print(\"------------\")\n",
    "\n",
    "z = np.where(x > 0, 1, -1)\n",
    "print(z)"
   ]
  }
 ],
 "metadata": {
  "kernelspec": {
   "display_name": "Python 3.10.6 64-bit",
   "language": "python",
   "name": "python3"
  },
  "language_info": {
   "codemirror_mode": {
    "name": "ipython",
    "version": 3
   },
   "file_extension": ".py",
   "mimetype": "text/x-python",
   "name": "python",
   "nbconvert_exporter": "python",
   "pygments_lexer": "ipython3",
   "version": "3.10.6"
  },
  "orig_nbformat": 4,
  "vscode": {
   "interpreter": {
    "hash": "98590ff4fe04c8543246b2a01debd3de3c5ca9b666f43f1fa87d5110c692004c"
   }
  }
 },
 "nbformat": 4,
 "nbformat_minor": 2
}
