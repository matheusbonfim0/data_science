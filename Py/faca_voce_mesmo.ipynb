{
 "cells": [
  {
   "cell_type": "markdown",
   "metadata": {},
   "source": [
    "1. Faça um programa que ettnha uma função chamada amplitude. A função deve receber uma\n",
    "lista e imprimir a amplitude.\n",
    "Crie também um código para testar sua função."
   ]
  },
  {
   "cell_type": "code",
   "execution_count": null,
   "metadata": {},
   "outputs": [],
   "source": [
    "import numpy as np\n",
    "\n",
    "def amplitude(lst):\n",
    "  print('Amplitude: ', max(lst) - min(lst))\n",
    "\n",
    "amplitude((1, 2, 3, 4, 5))\n"
   ]
  },
  {
   "cell_type": "markdown",
   "metadata": {},
   "source": [
    "2. Faça uma função que receba uma string e imprima esta string na forma vertical\n",
    "Por exemplo, se receber python, deve imprimir:\n",
    "p\n",
    "y\n",
    "t\n",
    "h\n",
    "o\n",
    "n\n",
    "Dica: uma string do python funciona como uma lista!\n",
    "Crie também um código para testar sua função"
   ]
  },
  {
   "cell_type": "code",
   "execution_count": null,
   "metadata": {},
   "outputs": [],
   "source": [
    "def vertical(txt):\n",
    "  for i in range(len(txt)):\n",
    "    print(txt[i])\n",
    "\n",
    "vertical('python')"
   ]
  },
  {
   "cell_type": "markdown",
   "metadata": {},
   "source": [
    "3. Crie um programa que leia o peso de uma carga em números inteiros. Se o peso for até 10kg, informe que o valor será de R$ 50,00. Entre 11 e 20kg, informe que o valor será de R$ 80,00. Se for maior que 20 informe que o transporte não é aceito. Teste vários pesos."
   ]
  },
  {
   "cell_type": "code",
   "execution_count": null,
   "metadata": {},
   "outputs": [],
   "source": [
    "def testepeso(peso):\n",
    "  if peso <= 10:\n",
    "    print('O valor será de R$ 50,00')\n",
    "  elif peso >= 11 and peso <= 20:\n",
    "    print('O valor será de R$ 80,00')\n",
    "  else:\n",
    "    print('O transporte não é aceito')\n",
    "\n",
    "testepeso(9)\n",
    "testepeso(15)\n",
    "testepeso(21)"
   ]
  }
 ],
 "metadata": {
  "kernelspec": {
   "display_name": "Python 3.10.6 64-bit",
   "language": "python",
   "name": "python3"
  },
  "language_info": {
   "codemirror_mode": {
    "name": "ipython",
    "version": 3
   },
   "file_extension": ".py",
   "mimetype": "text/x-python",
   "name": "python",
   "nbconvert_exporter": "python",
   "pygments_lexer": "ipython3",
   "version": "3.10.6"
  },
  "orig_nbformat": 4,
  "vscode": {
   "interpreter": {
    "hash": "98590ff4fe04c8543246b2a01debd3de3c5ca9b666f43f1fa87d5110c692004c"
   }
  }
 },
 "nbformat": 4,
 "nbformat_minor": 2
}
