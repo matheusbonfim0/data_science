{
 "cells": [
  {
   "cell_type": "markdown",
   "metadata": {},
   "source": [
    "Um Cientista de Dados pode gastar em média 80% do tempo realizando o tratamento de dados.\n",
    "\n",
    "Existem dois momentos\n",
    "O momento da produção dos dados e o momento das análises\n",
    "\n",
    "A empresa que não fizer uma tratativa qualificada para os seus clientes, em algum momento vai acabar passando por maus bocados\n",
    "\n",
    "## Porque dados tem problemas? \n",
    "\n",
    "    - Sistemas de operações e bancos de dados sem restrições de entrada\n",
    "    - Atualizações diretas e bancos de dados\n",
    "    - Sistema antigos, codificações diferentes (EBCDIC)\n",
    "    - Inconsistência nos precosses de carga: \n",
    "      - Origem da informaçõa é diversa, não padronizada\n",
    "      - Mudanças no processo\n",
    "      - Erros no processo\n",
    "\n",
    "## Operação VS Analítico\n",
    "    \n",
    "    Na operação o dado em seu formato individual não pode ser alterado para um valor padrão\n",
    "    No analítico, o dado não tem valor individual, mas coletivo. Ele pode ser corrigido pelo \"bem\" do modelo\n",
    "\n",
    "  - Operação\n",
    "    - Cliente do plano de saúde tem data de nascimento faltante\n",
    "    - Não podemos preencher com a mediana, pois isso influência o valor do plano!\n",
    "\n",
    "  - Analítico\n",
    "    - Modelo para prever custo dos clientes para o plano de saúde\n",
    "    - Algoritmo não suporta valores faltantes\n",
    "    - Alterar uma idade faltante para a mediana:\n",
    "      - Não vai afetar a operação\n",
    "      - Não vai causar enviesamento no modelo \n",
    "\n",
    "## Problemas encontrados\n",
    "\n",
    "  - Duplicidades\n",
    "  - Consistência\n",
    "  - Completude\n",
    "  - Conformidade\n",
    "  - Integridade"
   ]
  }
 ],
 "metadata": {
  "kernelspec": {
   "display_name": "Python 3.10.6 64-bit",
   "language": "python",
   "name": "python3"
  },
  "language_info": {
   "name": "python",
   "version": "3.10.6"
  },
  "orig_nbformat": 4,
  "vscode": {
   "interpreter": {
    "hash": "98590ff4fe04c8543246b2a01debd3de3c5ca9b666f43f1fa87d5110c692004c"
   }
  }
 },
 "nbformat": 4,
 "nbformat_minor": 2
}
