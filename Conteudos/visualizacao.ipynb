{
 "cells": [
  {
   "cell_type": "markdown",
   "metadata": {},
   "source": [
    "# Visualização"
   ]
  },
  {
   "cell_type": "markdown",
   "metadata": {},
   "source": [
    "    Na ciência de dados, no processo de produção de dados em informação e conhecimento, a visualização é uma parte critica."
   ]
  },
  {
   "cell_type": "markdown",
   "metadata": {},
   "source": [
    "    Sem ela, não se tem resultado, não se chega ao objetivo do trabalho, não se pode contar a história...não da pra demonstrar o que aconteceu"
   ]
  },
  {
   "cell_type": "markdown",
   "metadata": {},
   "source": [
    "## Arte ou Ciência"
   ]
  },
  {
   "cell_type": "markdown",
   "metadata": {},
   "source": [
    "- 95% Ciência\n",
    "-  5% Talento"
   ]
  },
  {
   "cell_type": "markdown",
   "metadata": {},
   "source": [
    "    A visualização de dados é acima de tudo uma ciência, e por isso funciona melhor com a aplicação de boas práticas"
   ]
  },
  {
   "cell_type": "markdown",
   "metadata": {},
   "source": [
    "### Durante a analise de dados..."
   ]
  },
  {
   "cell_type": "markdown",
   "metadata": {},
   "source": [
    "    Durante a Análise Exploratória:               Durante a Fase Explanatória:\n",
    "          - Relações                                  - Conclusões\n",
    "          - Limites                                   - Evidências\n",
    "          - Outliers                                  - Sofisticação\n",
    "          - Tendências\n",
    "          - Padrões"
   ]
  },
  {
   "cell_type": "markdown",
   "metadata": {},
   "source": [
    "## A visualização de dados pode produzir diversos tipos de artefatos:"
   ]
  },
  {
   "cell_type": "markdown",
   "metadata": {},
   "source": [
    "    - Gráficos estáticos: É uma representação instantânea de um conjunto de dados.\n",
    "    - Dashboards: Conjunto de gráficos interativos e exibidos em conjunto.\n",
    "    - Infográficos: Gráficos mais ricos visualmente, porém não estão vinculados diretamente a uma fonte de dados."
   ]
  },
  {
   "cell_type": "markdown",
   "metadata": {},
   "source": [
    "# Dicas para Criar Dashboards"
   ]
  },
  {
   "cell_type": "markdown",
   "metadata": {},
   "source": [
    "    1. Comparado ao que?\n",
    "    2. Bom ou Ruim?\n",
    "    3. Métricas corretas?\n",
    "    4. Tema\n",
    "    5. Tamanho e Resolução\n",
    "    6. Melhores e Piores\n",
    "    7. Excesso ou falta de níveis\n",
    "    8. Proporção"
   ]
  },
  {
   "cell_type": "markdown",
   "metadata": {},
   "source": [
    "## Formas de Organizar a Informação"
   ]
  },
  {
   "cell_type": "markdown",
   "metadata": {},
   "source": [
    "    - Localização\n",
    "    - Alfabeticamente\n",
    "    - Tempo\n",
    "    - Categoria\n",
    "    - Hierárquica"
   ]
  },
  {
   "cell_type": "markdown",
   "metadata": {},
   "source": [
    "- Elementos Corretos\n",
    "- Abuso de Cores"
   ]
  },
  {
   "cell_type": "markdown",
   "metadata": {},
   "source": [
    "## - Áreas de ênfase"
   ]
  },
  {
   "cell_type": "markdown",
   "metadata": {},
   "source": [
    "## - Proporção"
   ]
  },
  {
   "cell_type": "markdown",
   "metadata": {},
   "source": [
    "## Edward Tufte"
   ]
  },
  {
   "cell_type": "markdown",
   "metadata": {},
   "source": [
    "- **Data-ink ratio:** Todo \"pixel\"usado para desenhar um gráfico, deve ser utilizado acima de tudo para mostrar dados, ou seja, títulos, eixos, rótulos etc., podem e devem existir, mas devem ser utilizados racionalmente e minimamente"
   ]
  },
  {
   "cell_type": "markdown",
   "metadata": {},
   "source": [
    "### Accent, D.A.Burn"
   ]
  },
  {
   "cell_type": "markdown",
   "metadata": {},
   "source": [
    "**- Percepção (Apprehension):** Capacidade de perceber corretamente as relações entre as variáveis. O Gréfico deve maximizar a apreensão das relações entre as variáveis.\n",
    "\n",
    "**- Clareza (Clarity):** Capacidade de distinguir visualmente os elementos de um gráfico. Os elementos ou relaçÕes mais importantes devem ter destaque.\n",
    "\n",
    "**- Consistência (Consistency):** Capacidade de interpretar um gráfico com base na semelhança com gráficos anteriores. Os elementos, formas de símbolos e cores devem ser consistentes com a utilizada em gráficos anteriores.\n",
    "\n",
    "**- Eficiência (Efficiency):** Capacidade de demonstrar uma relação complexa de forma simples. Os elementos do gráfico devem ser utilizados racionamento e o gráfico deve ser de fácil interpretação.\n",
    "\n",
    "**- Necessidade (Necessity):** O gráfico e seus elementos são necessários? O gráfico é a melhor forma de representar os dados comparados com alternativas, como tabelas ou texto?\n",
    "\n",
    "**- Veracidade (Truthfulness):** Capacidade para determinar o valor representado pelos elementos gráficos em relação à escala. Os elementos gráficos devem ser posicionados e dimensionados com precisão."
   ]
  },
  {
   "cell_type": "markdown",
   "metadata": {},
   "source": [
    "- Evitar gráfico de setores\n",
    "- Evitar 3D\n",
    "- Cores não ordenam valores. Escalas de cinza sim\n",
    "- Devem mostrar 20 números ou menos\n",
    "- Variar dados, não design"
   ]
  },
  {
   "cell_type": "markdown",
   "metadata": {},
   "source": [
    "- Gráficos devem destacar dados, nada mais\n",
    "- Evitar linhas de Grade\n",
    "- Não usar moiré Vibration\n",
    "- Conseguimos guardar de 3 a 0 informações visuais em nosso cérebro"
   ]
  },
  {
   "cell_type": "markdown",
   "metadata": {},
   "source": [
    "## Daltonismo"
   ]
  },
  {
   "cell_type": "markdown",
   "metadata": {},
   "source": [
    "- Considerar que 7% da população possui algym tipo de daltonismo\n",
    "- Considerar palhetas de cores adequadas neste caso\n",
    "- colorlab.wickline.org/colorblind/colorlab"
   ]
  },
  {
   "cell_type": "markdown",
   "metadata": {},
   "source": [
    "# Capacidade de Percepção do Cérebro"
   ]
  },
  {
   "cell_type": "markdown",
   "metadata": {},
   "source": [
    "- Percepção\n",
    "- Exemplos:\n",
    "    - Gráfico de Barras\n",
    "    - Gráfico de Setores\n",
    "    - Gráfico de Dispersão"
   ]
  },
  {
   "cell_type": "markdown",
   "metadata": {},
   "source": [
    "    Teste: \n",
    "    minha resposta: C - E - B - A - D\n",
    "    R: C - E (B-D - mesmo tamanho) - A"
   ]
  },
  {
   "cell_type": "markdown",
   "metadata": {},
   "source": [
    "    1 - Posição em uma escala comum\n",
    "    2 - Posição em uma escala não alinhada\n",
    "    3 - Comrpimento, direção e ângulo\n",
    "    4 - Área\n",
    "    5 - Volume, Curvatura\n",
    "    6 - Sombreamento, saturação"
   ]
  },
  {
   "cell_type": "markdown",
   "metadata": {},
   "source": [
    "# Dados Discretos"
   ]
  },
  {
   "cell_type": "markdown",
   "metadata": {},
   "source": [
    "- ## Gráficos de Barras\n",
    "\n",
    "    - Quando se tem muitos dados usar o gráfico de barras na horizontal\n",
    "  "
   ]
  },
  {
   "cell_type": "markdown",
   "metadata": {},
   "source": [
    "- ## Gráfico de Linhas\n",
    "\n",
    "    - Dados Contínuos\n",
    "    - Evolução\n",
    "    - Series temporais, com tempo no eixo horizontal dimensões no eixo vertical\n",
    "    - Suporta várias categorias"
   ]
  },
  {
   "cell_type": "markdown",
   "metadata": {},
   "source": [
    "- ## Gráfico de Setores\n",
    "\n",
    "    - Quando você não necessita de grande precisão na comparação dos dados\n",
    "      e quando você não possui tantos dados"
   ]
  },
  {
   "cell_type": "markdown",
   "metadata": {},
   "source": [
    "- ## Gráfico de Dispersão\n",
    "\n",
    "    - Muito utilizado para a comparação de variáveis"
   ]
  },
  {
   "cell_type": "markdown",
   "metadata": {},
   "source": [
    "- ## Gráficos de Distribuição dos Dados\n",
    "\n",
    "    - Histograma\n",
    "    - Boxplot"
   ]
  },
  {
   "cell_type": "markdown",
   "metadata": {},
   "source": [
    "- ## Menos comuns\n",
    "\n",
    "    - Heatmap\n",
    "    - Treemap"
   ]
  },
  {
   "cell_type": "markdown",
   "metadata": {},
   "source": [
    "# Checklist "
   ]
  },
  {
   "cell_type": "markdown",
   "metadata": {},
   "source": [
    "- ## Tipos de elementos\n",
    "\n",
    "    - ### Está usando o elemento gráfico adequado?\n",
    "    - ### Não há excesso de elementos decorativos?\n",
    "    - ### Não há mais do que 7 elementos no Dashboard?"
   ]
  },
  {
   "cell_type": "markdown",
   "metadata": {},
   "source": [
    "- ## Dados\n",
    "\n",
    "    - ### Dados estão no contexto correto?\n",
    "    - ### Dados não apresetam um Excesso de detalhes?\n",
    "    - ### Dados mais importantes estão destacados?\n",
    "    - ### Não há mais do que 20 instâncias(linhas) por elemento(Gráfico)?\n",
    "    - ### Existe excesso de elementos não relacionados a dados?"
   ]
  },
  {
   "cell_type": "markdown",
   "metadata": {},
   "source": [
    "- ## Painel\n",
    "\n",
    "    - ### Não transcende as dimensões de uma tela?\n",
    "    - ### Não utiliza medidads ineficientes?\n",
    "    - ### Existe um único assunto no Dashboard?\n",
    "    - ### Está destacando informação mais relevante nas áreas de ênfase?\n",
    "    - ### Está mantida a proporção 1/6 entre eixos? \n",
    "    - ### Existem referencias de comparação?"
   ]
  },
  {
   "cell_type": "markdown",
   "metadata": {},
   "source": [
    "- ## Design\n",
    "\n",
    "    - ### Foi considerado o ranking de percepção do cérebro?\n",
    "    - ### As cores escolhidas são suaves?\n",
    "    - ### Foram evitadas linhas de grade e moiré vibration?\n",
    "    - ### Foram feitas considerações sobre daltonismo?\n"
   ]
  },
  {
   "cell_type": "markdown",
   "metadata": {},
   "source": []
  }
 ],
 "metadata": {
  "language_info": {
   "name": "python"
  },
  "orig_nbformat": 4
 },
 "nbformat": 4,
 "nbformat_minor": 2
}
